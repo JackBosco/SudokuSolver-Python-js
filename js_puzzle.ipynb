{
 "cells": [
  {
   "cell_type": "markdown",
   "metadata": {},
   "source": [
    "# Jane Street January 2025 Puzzle\n",
    "\n",
    "Link to current puzzle: https://www.janestreet.com/puzzles/current-puzzle/\n",
    "\n",
    "Tentative archive link (currently not archived): https://www.janestreet.com/puzzles/current-puzzle/somewhat-square-sudoku-index/\n"
   ]
  },
  {
   "cell_type": "code",
   "execution_count": 1,
   "metadata": {},
   "outputs": [
    {
     "data": {
      "text/plain": [
       "[[1, 1, 1, 1, 1, 1, 1, 2, 1],\n",
       " [1, 1, 1, 1, 1, 1, 1, 1, 5],\n",
       " [1, 2, 1, 1, 1, 1, 1, 1, 1],\n",
       " [1, 1, 0, 1, 1, 1, 1, 1, 1],\n",
       " [1, 1, 1, 1, 1, 1, 1, 1, 1],\n",
       " [1, 1, 1, 2, 1, 1, 1, 1, 1],\n",
       " [1, 1, 1, 1, 0, 1, 1, 1, 1],\n",
       " [1, 1, 1, 1, 1, 2, 1, 1, 1],\n",
       " [1, 1, 1, 1, 1, 1, 5, 1, 1]]"
      ]
     },
     "execution_count": 1,
     "metadata": {},
     "output_type": "execute_result"
    }
   ],
   "source": [
    "from Sudoku import Sudoku\n",
    "\n",
    "NULL_INT = 1\n",
    "\n",
    "puzzle_st = (\".......2.\"\n",
    "             \"........5\"\n",
    "             \".2.......\"\n",
    "             \"..0......\"\n",
    "             \".........\"\n",
    "             \"...2.....\"\n",
    "             \"....0....\"\n",
    "             \".....2...\"\n",
    "             \"......5..\")\n",
    "puzzle_lst = []\n",
    "for i in range(0, 81, 9):\n",
    "    puzzle_lst.append([])\n",
    "    for ch in puzzle_st[i:i+9]:\n",
    "        if ch != '.':\n",
    "            puzzle_lst[-1].append(int(ch))\n",
    "        else:\n",
    "            puzzle_lst[-1].append(NULL_INT)\n",
    "\n",
    "puzzle_lst"
   ]
  },
  {
   "cell_type": "code",
   "execution_count": 2,
   "metadata": {},
   "outputs": [
    {
     "name": "stdout",
     "output_type": "stream",
     "text": [
      "[1, 1, 1, 1, 1, 1, 1, 2, 1]\n",
      "[1, 1, 1, 1, 1, 1, 1, 1, 5]\n",
      "[1, 2, 1, 1, 1, 1, 1, 1, 1]\n",
      "[1, 1, 0, 1, 1, 1, 1, 1, 1]\n",
      "[1, 1, 1, 1, 1, 1, 1, 1, 1]\n",
      "[1, 1, 1, 2, 1, 1, 1, 1, 1]\n",
      "[1, 1, 1, 1, 0, 1, 1, 1, 1]\n",
      "[1, 1, 1, 1, 1, 2, 1, 1, 1]\n",
      "[1, 1, 1, 1, 1, 1, 5, 1, 1]\n",
      "\n"
     ]
    }
   ],
   "source": [
    "game = Sudoku(puzzle_lst, is_hyper_Sudoku=True) #null_digit = -1, valid_digits = set(range(10)))\n",
    "print(game)"
   ]
  },
  {
   "cell_type": "code",
   "execution_count": 3,
   "metadata": {},
   "outputs": [
    {
     "name": "stderr",
     "output_type": "stream",
     "text": [
      "check_unique_test (test_Sudoku.SudokuTest) ... ok\n",
      "check_row_test (test_Sudoku.SudokuTest) ... ok\n",
      "check_col_test (test_Sudoku.SudokuTest) ... ok\n",
      "check_box_test (test_Sudoku.SudokuTest) ... ok\n",
      "find_options_test (test_Sudoku.SudokuTest) ... ok\n",
      "candidates_test (test_Sudoku.SudokuTest) ... ok\n",
      "candidates_advanced (test_Sudoku.SudokuTest) ... ok\n",
      "impossible_test (test_Sudoku.SudokuTest) ... ok\n",
      "impossible_x_test (test_Sudoku.SudokuTest) ... ok\n",
      "check_done (test_Sudoku.SudokuTest) ... ok\n",
      "check_null_digit (test_Sudoku.SudokuTest) ... ok\n",
      "\n",
      "----------------------------------------------------------------------\n",
      "Ran 11 tests in 0.016s\n",
      "\n",
      "OK\n"
     ]
    },
    {
     "data": {
      "text/plain": [
       "<unittest.runner.TextTestResult run=11 errors=0 failures=0>"
      ]
     },
     "execution_count": 3,
     "metadata": {},
     "output_type": "execute_result"
    }
   ],
   "source": [
    "import test_Sudoku\n",
    "\n",
    "runner = test_Sudoku.unittest.TextTestRunner(verbosity=2)\n",
    "runner.run(test_Sudoku.suite())"
   ]
  },
  {
   "cell_type": "code",
   "execution_count": 4,
   "metadata": {},
   "outputs": [
    {
     "name": "stderr",
     "output_type": "stream",
     "text": [
      "check_solver (test_solver.SudokuSolverTest) ... ok\n",
      "check_solved_puzzles (test_solver.SudokuSolverTest) ... ok\n",
      "solve_X_sudoku (test_solver.SudokuSolverTest) ... ok\n",
      "solve_hyper_sudoku (test_solver.SudokuSolverTest) ... ok\n",
      "solve_hyper_sudoku_x (test_solver.SudokuSolverTest) ... ok\n",
      "\n",
      "----------------------------------------------------------------------\n",
      "Ran 5 tests in 0.230s\n",
      "\n",
      "OK\n"
     ]
    },
    {
     "data": {
      "text/plain": [
       "<unittest.runner.TextTestResult run=5 errors=0 failures=0>"
      ]
     },
     "execution_count": 4,
     "metadata": {},
     "output_type": "execute_result"
    }
   ],
   "source": [
    "import test_solver\n",
    "\n",
    "runner = test_solver.unittest.TextTestRunner(verbosity=2)\n",
    "runner.run(test_solver.suite())"
   ]
  },
  {
   "cell_type": "code",
   "execution_count": 5,
   "metadata": {},
   "outputs": [
    {
     "ename": "",
     "evalue": "",
     "output_type": "error",
     "traceback": [
      "\u001b[1;31mThe Kernel crashed while executing code in the current cell or a previous cell. \n",
      "\u001b[1;31mPlease review the code in the cell(s) to identify a possible cause of the failure. \n",
      "\u001b[1;31mClick <a href='https://aka.ms/vscodeJupyterKernelCrash'>here</a> for more info. \n",
      "\u001b[1;31mView Jupyter <a href='command:jupyter.viewOutput'>log</a> for further details."
     ]
    }
   ],
   "source": [
    "from copy import deepcopy\n",
    "from typing import List\n",
    "import random\n",
    "import time\n",
    "\n",
    "from Sudoku import Sudoku\n",
    "from str2grid import str2grid, grid2str\n",
    "def solve(game0: Sudoku, progress_factor=1.0):\n",
    "    global calls, depth_max, progress, progress_update, update_increment\n",
    "    stacc = [(game0, 0)]\n",
    "    while stacc:\n",
    "        if verbose and progress > progress_update:\n",
    "            print(\"%.1f\" % (progress*100), end=' ...')\n",
    "            progress_update = (\n",
    "                (progress//update_increment) + 1) * update_increment\n",
    "            \n",
    "        game, depth = stacc.pop()\n",
    "        calls += 1\n",
    "        depth_max = max(depth, depth_max)\n",
    "        # solved = False\n",
    "        # while not solved:\n",
    "        solved = True  # assume solved\n",
    "        edited = False  # if no edits, either done or stuck\n",
    "        deadend = False\n",
    "        for i in range(game.n):\n",
    "            if deadend: break\n",
    "            for j in range(game.n):\n",
    "                if game.grid[i][j] == game._null_digit:\n",
    "                    solved = False\n",
    "                    options = game.candidates[i][j]\n",
    "                    if len(options) == 0:\n",
    "                        progress += progress_factor\n",
    "                        deadend = True #return False  # this call is going nowhere\n",
    "                        break\n",
    "                    elif len(options) == 1:  # Step 1\n",
    "                        game.place_and_erase(\n",
    "                            i, j, list(options)[0])  # Step 2\n",
    "                        edited = True\n",
    "                        deadend = True\n",
    "                        break\n",
    "        if edited:\n",
    "            stacc.append((game, depth))\n",
    "            continue\n",
    "\n",
    "        if solved:\n",
    "            progress += progress_factor\n",
    "            if not all_solutions:\n",
    "                return grid2str(game.grid.copy())\n",
    "            yield grid2str(game.grid.copy())\n",
    "\n",
    "        # backtracking check point:\n",
    "        nxt_guess, min_options = None, 10\n",
    "        for i in range(9):\n",
    "            for j in range(9):\n",
    "                if len(game.candidates[i][j]) < min_options and len(game.candidates[i][j]) > 1:\n",
    "                    nxt_guess, min_options = (i, j), len(game.candidates[i][j])\n",
    "        if not nxt_guess:\n",
    "            continue\n",
    "        i, j = nxt_guess\n",
    "        options = game.candidates[i][j]\n",
    "        progress_factor *= (1/len(options))\n",
    "        for y in options:\n",
    "            game_next = deepcopy(game)\n",
    "            game_next.place_and_erase(i, j, y)\n",
    "            # game_next.flush_candidates() # full grid cleaning\n",
    "            stacc.append((game_next, depth+1))\n",
    "\n",
    "\n",
    "calls, depth_max = 0, 0\n",
    "progress, update_increment, progress_update = 0.0, 0.01, 0.01\n",
    "solution_set = []\n",
    "verbose = True\n",
    "all_solutions=True"
   ]
  },
  {
   "cell_type": "code",
   "execution_count": null,
   "metadata": {},
   "outputs": [],
   "source": [
    "# from solver import solve_sudoku\n",
    "from str2grid import str2grid, grid2str\n",
    "import re\n",
    "\n",
    "UNUSED = set(range(0, 10))\n",
    "UNUSED -= {2, 5, 0}\n",
    "puzzle_st_template = (  \".......2.\"\n",
    "                        \"........5\"\n",
    "                        \".2.......\"\n",
    "                        \"..0......\"\n",
    "                        \".........\"\n",
    "                        \"...2.....\"\n",
    "                        \"....0....\"\n",
    "                        \".....2...\"\n",
    "                        \"......5..\")\n",
    "\n",
    "for n in {1}:\n",
    "    attempt = re.sub(r'\\.', str(n), puzzle_st_template)\n",
    "    grid = str2grid(attempt)\n",
    "    cgame = Sudoku(grid, is_hyper_Sudoku=True, null_digit=n, valid_digits= set(range(10))-{n})\n",
    "    print('Now finding solutions for\\n', grid2str(grid))\n",
    "\n",
    "    sols = solve(cgame)\n",
    "    i = 1\n",
    "    with open('solutions.txt', 'w') as f:\n",
    "        for s in sols:\n",
    "            f.write(s + '\\n')\n",
    "            if i % 10 == 1:\n",
    "                print('\\n'.join(str(i) for i in (str2grid(s))))\n",
    "                print('='*12)\n",
    "            i += 1"
   ]
  }
 ],
 "metadata": {
  "kernelspec": {
   "display_name": "Python 3",
   "language": "python",
   "name": "python3"
  },
  "language_info": {
   "codemirror_mode": {
    "name": "ipython",
    "version": 3
   },
   "file_extension": ".py",
   "mimetype": "text/x-python",
   "name": "python",
   "nbconvert_exporter": "python",
   "pygments_lexer": "ipython3",
   "version": "3.10.5"
  }
 },
 "nbformat": 4,
 "nbformat_minor": 2
}
